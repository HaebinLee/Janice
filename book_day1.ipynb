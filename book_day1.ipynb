{
 "cells": [
  {
   "cell_type": "code",
   "execution_count": 1,
   "metadata": {},
   "outputs": [],
   "source": [
    "import openpyxl"
   ]
  },
  {
   "cell_type": "code",
   "execution_count": 10,
   "metadata": {},
   "outputs": [],
   "source": [
    "filename = \"C:/Users/HaebinLee/Desktop/exercise/stats_104102.xlsx\""
   ]
  },
  {
   "cell_type": "code",
   "execution_count": 13,
   "metadata": {},
   "outputs": [],
   "source": [
    "book = openpyxl.load_workbook(filename) #book : 여러개의 시트로 구성된 것, 즉 파일."
   ]
  },
  {
   "cell_type": "code",
   "execution_count": 14,
   "metadata": {},
   "outputs": [
    {
     "data": {
      "text/plain": [
       "<openpyxl.workbook.workbook.Workbook at 0x28b22272860>"
      ]
     },
     "execution_count": 14,
     "metadata": {},
     "output_type": "execute_result"
    }
   ],
   "source": [
    "book"
   ]
  },
  {
   "cell_type": "code",
   "execution_count": 15,
   "metadata": {},
   "outputs": [],
   "source": [
    "sheet=book.worksheets[0] #북 내의 시트 추출"
   ]
  },
  {
   "cell_type": "code",
   "execution_count": 16,
   "metadata": {},
   "outputs": [
    {
     "data": {
      "text/plain": [
       "<Worksheet \"stats_104102\">"
      ]
     },
     "execution_count": 16,
     "metadata": {},
     "output_type": "execute_result"
    }
   ],
   "source": [
    "sheet"
   ]
  },
  {
   "cell_type": "code",
   "execution_count": 32,
   "metadata": {},
   "outputs": [],
   "source": [
    "data=[]\n",
    "for row in sheet.rows :\n",
    "    data.append([\n",
    "        row[0].value,\n",
    "        row[9].value\n",
    "    ]) #시트의 각 행 추출"
   ]
  },
  {
   "cell_type": "code",
   "execution_count": 33,
   "metadata": {},
   "outputs": [
    {
     "data": {
      "text/plain": [
       "[['시도별 인구 변동 현황 [단위 : 천명]', None],\n",
       " [None, 2017],\n",
       " ['계', 51778],\n",
       " ['서울', 9857],\n",
       " ['부산', 3470],\n",
       " ['대구', 2475],\n",
       " ['인천', 2948],\n",
       " ['광주', 1463],\n",
       " ['대전', 1502],\n",
       " ['울산', 1165],\n",
       " ['세종', 280],\n",
       " ['경기', 12873],\n",
       " ['강원', 1550],\n",
       " ['충북', 1594],\n",
       " ['충남', 2116],\n",
       " ['전북', 1854],\n",
       " ['전남', 1896],\n",
       " ['경북', 2691],\n",
       " ['경남', 3380],\n",
       " ['제주', 657]]"
      ]
     },
     "execution_count": 33,
     "metadata": {},
     "output_type": "execute_result"
    }
   ],
   "source": [
    "data"
   ]
  },
  {
   "cell_type": "code",
   "execution_count": 34,
   "metadata": {},
   "outputs": [],
   "source": [
    "del data[0]\n",
    "del data[1]\n",
    "del data[2]"
   ]
  },
  {
   "cell_type": "code",
   "execution_count": 35,
   "metadata": {},
   "outputs": [
    {
     "data": {
      "text/plain": [
       "[[None, 2017],\n",
       " ['서울', 9857],\n",
       " ['대구', 2475],\n",
       " ['인천', 2948],\n",
       " ['광주', 1463],\n",
       " ['대전', 1502],\n",
       " ['울산', 1165],\n",
       " ['세종', 280],\n",
       " ['경기', 12873],\n",
       " ['강원', 1550],\n",
       " ['충북', 1594],\n",
       " ['충남', 2116],\n",
       " ['전북', 1854],\n",
       " ['전남', 1896],\n",
       " ['경북', 2691],\n",
       " ['경남', 3380],\n",
       " ['제주', 657]]"
      ]
     },
     "execution_count": 35,
     "metadata": {},
     "output_type": "execute_result"
    }
   ],
   "source": [
    "data"
   ]
  },
  {
   "cell_type": "code",
   "execution_count": 36,
   "metadata": {},
   "outputs": [],
   "source": [
    "del data[0]"
   ]
  },
  {
   "cell_type": "code",
   "execution_count": 37,
   "metadata": {},
   "outputs": [
    {
     "data": {
      "text/plain": [
       "[['서울', 9857],\n",
       " ['대구', 2475],\n",
       " ['인천', 2948],\n",
       " ['광주', 1463],\n",
       " ['대전', 1502],\n",
       " ['울산', 1165],\n",
       " ['세종', 280],\n",
       " ['경기', 12873],\n",
       " ['강원', 1550],\n",
       " ['충북', 1594],\n",
       " ['충남', 2116],\n",
       " ['전북', 1854],\n",
       " ['전남', 1896],\n",
       " ['경북', 2691],\n",
       " ['경남', 3380],\n",
       " ['제주', 657]]"
      ]
     },
     "execution_count": 37,
     "metadata": {},
     "output_type": "execute_result"
    }
   ],
   "source": [
    "data"
   ]
  },
  {
   "cell_type": "code",
   "execution_count": 38,
   "metadata": {},
   "outputs": [],
   "source": [
    "data = sorted(data,key=lambda x:x[1])"
   ]
  },
  {
   "cell_type": "code",
   "execution_count": 39,
   "metadata": {},
   "outputs": [
    {
     "data": {
      "text/plain": [
       "[['세종', 280],\n",
       " ['제주', 657],\n",
       " ['울산', 1165],\n",
       " ['광주', 1463],\n",
       " ['대전', 1502],\n",
       " ['강원', 1550],\n",
       " ['충북', 1594],\n",
       " ['전북', 1854],\n",
       " ['전남', 1896],\n",
       " ['충남', 2116],\n",
       " ['대구', 2475],\n",
       " ['경북', 2691],\n",
       " ['인천', 2948],\n",
       " ['경남', 3380],\n",
       " ['서울', 9857],\n",
       " ['경기', 12873]]"
      ]
     },
     "execution_count": 39,
     "metadata": {},
     "output_type": "execute_result"
    }
   ],
   "source": [
    "data"
   ]
  },
  {
   "cell_type": "code",
   "execution_count": 40,
   "metadata": {},
   "outputs": [
    {
     "name": "stdout",
     "output_type": "stream",
     "text": [
      "1 세종 280\n",
      "2 제주 657\n",
      "3 울산 1165\n",
      "4 광주 1463\n",
      "5 대전 1502\n"
     ]
    }
   ],
   "source": [
    "for i, a in enumerate(data) : \n",
    "    if (i>=5) : break\n",
    "    print(i+1, a[0], int(a[1]))"
   ]
  },
  {
   "cell_type": "code",
   "execution_count": 41,
   "metadata": {},
   "outputs": [],
   "source": [
    "# 활성화된 시트 추출하기 --- (※2)\n",
    "sheet = book.active"
   ]
  },
  {
   "cell_type": "code",
   "execution_count": 64,
   "metadata": {},
   "outputs": [
    {
     "name": "stdout",
     "output_type": "stream",
     "text": [
      "서울 제외 인구 = 39565\n",
      "서울 제외 인구 = 40203\n",
      "서울 제외 인구 = 40484\n",
      "서울 제외 인구 = 40753\n",
      "서울 제외 인구 = 40997\n",
      "서울 제외 인구 = 41225\n",
      "서울 제외 인구 = 41507\n",
      "서울 제외 인구 = 41766\n",
      "서울 제외 인구 = 41921\n",
      "ok\n"
     ]
    }
   ],
   "source": [
    "# 서울을 제외한 인구를 구해서 쓰기 --- (※3)\n",
    "for i in range(0, 9):\n",
    "    total = int(sheet[str(chr(i + 66)) + \"3\"].value)\n",
    "    seoul = int(sheet[str(chr(i + 66)) + \"4\"].value)\n",
    "    output = total - seoul\n",
    "    print(\"서울 제외 인구 =\", output)\n",
    "     # 셀에 값 쓰기 --- (※4)\n",
    "    sheet[str(chr(i + 66)) + \"21\"] = output\n",
    "    cell = sheet[str(chr(i + 66)) + \"21\"]\n",
    "    # 폰트와 색상, 출력형식 변경해보기 --- (※5)\n",
    "    cell.font = openpyxl.styles.Font(size=14,color=\"FF0000\")\n",
    "    cell.number_format = cell.number_format\n",
    "# 엑셀 파일 저장하기 --- (※6)\n",
    "filename = \"C:/Users/HaebinLee/Desktop/exercise/population.xlsx\"\n",
    "book.save(filename)\n",
    "print(\"ok\")"
   ]
  },
  {
   "cell_type": "code",
   "execution_count": 42,
   "metadata": {},
   "outputs": [],
   "source": [
    "total = int(sheet[str(chr(1 + 66)) + \"3\"].value)"
   ]
  },
  {
   "cell_type": "code",
   "execution_count": 43,
   "metadata": {},
   "outputs": [
    {
     "data": {
      "text/plain": [
       "50515"
      ]
     },
     "execution_count": 43,
     "metadata": {},
     "output_type": "execute_result"
    }
   ],
   "source": [
    "total"
   ]
  },
  {
   "cell_type": "code",
   "execution_count": 46,
   "metadata": {},
   "outputs": [
    {
     "data": {
      "text/plain": [
       "'C3'"
      ]
     },
     "execution_count": 46,
     "metadata": {},
     "output_type": "execute_result"
    }
   ],
   "source": [
    "str(chr(1 + 66)) + \"3\""
   ]
  },
  {
   "cell_type": "code",
   "execution_count": 54,
   "metadata": {},
   "outputs": [
    {
     "data": {
      "text/plain": [
       "'\\x01'"
      ]
     },
     "execution_count": 54,
     "metadata": {},
     "output_type": "execute_result"
    }
   ],
   "source": [
    "chr(1)"
   ]
  },
  {
   "cell_type": "code",
   "execution_count": 55,
   "metadata": {},
   "outputs": [
    {
     "data": {
      "text/plain": [
       "50515"
      ]
     },
     "execution_count": 55,
     "metadata": {},
     "output_type": "execute_result"
    }
   ],
   "source": [
    "sheet[str(chr(1 + 66)) + \"3\"].value"
   ]
  },
  {
   "cell_type": "code",
   "execution_count": 56,
   "metadata": {},
   "outputs": [],
   "source": [
    "total = int(sheet[str(chr(1 + 66)) + \"3\"].value)"
   ]
  },
  {
   "cell_type": "code",
   "execution_count": 58,
   "metadata": {},
   "outputs": [],
   "source": [
    "sheet[str(chr(1 + 66)) + \"21\"] = output"
   ]
  },
  {
   "cell_type": "code",
   "execution_count": 60,
   "metadata": {},
   "outputs": [
    {
     "data": {
      "text/plain": [
       "41921"
      ]
     },
     "execution_count": 60,
     "metadata": {},
     "output_type": "execute_result"
    }
   ],
   "source": [
    "sheet[str(chr(1 + 66)) + \"21\"].value"
   ]
  },
  {
   "cell_type": "code",
   "execution_count": 61,
   "metadata": {},
   "outputs": [],
   "source": [
    "cell = sheet[str(chr(1 + 66)) + \"21\"]"
   ]
  },
  {
   "cell_type": "code",
   "execution_count": 63,
   "metadata": {},
   "outputs": [
    {
     "data": {
      "text/plain": [
       "41921"
      ]
     },
     "execution_count": 63,
     "metadata": {},
     "output_type": "execute_result"
    }
   ],
   "source": [
    "cell.value"
   ]
  },
  {
   "cell_type": "code",
   "execution_count": 66,
   "metadata": {},
   "outputs": [
    {
     "name": "stdout",
     "output_type": "stream",
     "text": [
      "     2009   2010   2011   2012   2013   2014   2015   2016   2017\n",
      "계   49773  50515  50734  50948  51141  51328  51529  51696  51778\n",
      "경기  11460  11787  11937  12093  12235  12358  12522  12716  12873\n",
      "서울  10208  10312  10250  10195  10144  10103  10022   9930   9857\n",
      "부산   3543   3568   3551   3538   3528   3519   3513   3498   3470\n",
      "경남   3250   3291   3309   3319   3333   3350   3364   3373   3380\n",
      "인천   2710   2758   2801   2844   2880   2903   2925   2943   2948\n",
      "경북   2669   2690   2699   2698   2699   2701   2702   2700   2691\n",
      "대구   2489   2512   2508   2506   2502   2493   2487   2484   2475\n",
      "충남   2037   2075   2101   2029   2048   2062   2077   2096   2116\n",
      "전남   1913   1918   1914   1910   1907   1906   1908   1903   1896\n",
      "전북   1854   1869   1874   1873   1873   1872   1869   1864   1854\n",
      "충북   1527   1549   1563   1566   1573   1579   1583   1591   1594\n",
      "강원   1512   1530   1536   1539   1542   1544   1549   1550   1550\n",
      "대전   1484   1504   1516   1525   1533   1532   1518   1514   1502\n",
      "광주   1433   1455   1463   1469   1473   1476   1472   1469   1463\n",
      "울산   1114   1126   1136   1147   1156   1166   1173   1172   1165\n",
      "제주    562    571    576    584    593    607    624    641    657\n",
      "세종      -      -      -    113    122    156    210    243    280\n"
     ]
    }
   ],
   "source": [
    "import pandas as pd\n",
    "# 엑셀 파일 열기 --- (※1)\n",
    "filename = \"C:/Users/HaebinLee/Desktop/exercise/stats_104102.xlsx\" # 파일 이름\n",
    "sheet_name = \"stats_104102\" # 시트 이름\n",
    "book = pd.read_excel(filename, sheet_name=sheet_name, header=1) # 첫 번째 줄부터 헤더\n",
    "# 2017년 인구로 정렬 --- (※2)\n",
    "book = book.sort_values(by=2015, ascending=False)\n",
    "print(book)"
   ]
  },
  {
   "cell_type": "code",
   "execution_count": 67,
   "metadata": {},
   "outputs": [
    {
     "name": "stdout",
     "output_type": "stream",
     "text": [
      "     2009   2010   2011   2012   2013   2014   2015   2016   2017\n",
      "계   49773  50515  50734  50948  51141  51328  51529  51696  51778\n",
      "경기  11460  11787  11937  12093  12235  12358  12522  12716  12873\n",
      "서울  10208  10312  10250  10195  10144  10103  10022   9930   9857\n",
      "부산   3543   3568   3551   3538   3528   3519   3513   3498   3470\n",
      "경남   3250   3291   3309   3319   3333   3350   3364   3373   3380\n",
      "인천   2710   2758   2801   2844   2880   2903   2925   2943   2948\n",
      "경북   2669   2690   2699   2698   2699   2701   2702   2700   2691\n",
      "대구   2489   2512   2508   2506   2502   2493   2487   2484   2475\n",
      "충남   2037   2075   2101   2029   2048   2062   2077   2096   2116\n",
      "전남   1913   1918   1914   1910   1907   1906   1908   1903   1896\n",
      "전북   1854   1869   1874   1873   1873   1872   1869   1864   1854\n",
      "충북   1527   1549   1563   1566   1573   1579   1583   1591   1594\n",
      "강원   1512   1530   1536   1539   1542   1544   1549   1550   1550\n",
      "대전   1484   1504   1516   1525   1533   1532   1518   1514   1502\n",
      "광주   1433   1455   1463   1469   1473   1476   1472   1469   1463\n",
      "울산   1114   1126   1136   1147   1156   1166   1173   1172   1165\n",
      "제주    562    571    576    584    593    607    624    641    657\n",
      "세종      -      -      -    113    122    156    210    243    280\n"
     ]
    }
   ],
   "source": [
    "book = book.sort_values(by=2017, ascending=False)\n",
    "print(book)"
   ]
  },
  {
   "cell_type": "code",
   "execution_count": null,
   "metadata": {},
   "outputs": [],
   "source": []
  }
 ],
 "metadata": {
  "kernelspec": {
   "display_name": "Python 3",
   "language": "python",
   "name": "python3"
  },
  "language_info": {
   "codemirror_mode": {
    "name": "ipython",
    "version": 3
   },
   "file_extension": ".py",
   "mimetype": "text/x-python",
   "name": "python",
   "nbconvert_exporter": "python",
   "pygments_lexer": "ipython3",
   "version": "3.7.1"
  }
 },
 "nbformat": 4,
 "nbformat_minor": 2
}
