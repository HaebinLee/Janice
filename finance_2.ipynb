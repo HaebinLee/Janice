{
 "cells": [
  {
   "cell_type": "code",
   "execution_count": 1,
   "metadata": {},
   "outputs": [],
   "source": [
    "#상/하한가 산출 방식과 파이썬으로 산출과정 구현하기\n",
    "\n",
    "#상/하한가 산출방법\n",
    "# 1차계산 : 기준가격에 가격제한폭(현재는 0.3)을 곱합니다.\n",
    "# 2차계산 : 기준가격의 호가가격단위에 해당하는 가격 미만을 절사합니다.\n",
    "# 3차계산 : 기준가격에 2차계산에 의한 수치를 가감하되, 해당가격의 호가가격단위 미만을 절사합니다.\n",
    "\n",
    "#산출예시 : 기준가격이 9,980원인 경우\n",
    "# 1차계산 : 9,980원 X 0.3 = 2,994원\n",
    "# 2차계산 : 2,990원 (9,980원의 호가가격단위인 10원미만 절사 : 1차절사)\n",
    "# 3차계산\n",
    "\n",
    "#9,980원 + 2,990원 = 12,970원\n",
    "#호가가격단위 적용 : 12,970원의 호가가격단위인 50원미만 절사(2차절사)\n",
    "#∴상한가 = 12,970 → 12,950원 (호가 단위 50)\n",
    "#9,980원 - 2,990원 = 6,990원\n",
    "#∴ 하한가 = 6,990 그대로 (만원 이하이기 때문에 호가 단위가 10원임 → 2차 절사가 일어나지 않음)"
   ]
  },
  {
   "cell_type": "code",
   "execution_count": null,
   "metadata": {},
   "outputs": [],
   "source": []
  }
 ],
 "metadata": {
  "kernelspec": {
   "display_name": "Python 3",
   "language": "python",
   "name": "python3"
  },
  "language_info": {
   "codemirror_mode": {
    "name": "ipython",
    "version": 3
   },
   "file_extension": ".py",
   "mimetype": "text/x-python",
   "name": "python",
   "nbconvert_exporter": "python",
   "pygments_lexer": "ipython3",
   "version": "3.7.1"
  }
 },
 "nbformat": 4,
 "nbformat_minor": 2
}
